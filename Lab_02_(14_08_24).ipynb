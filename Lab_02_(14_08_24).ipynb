{
  "metadata": {
    "kernelspec": {
      "display_name": "Python 3 (ipykernel)",
      "language": "python",
      "name": "python3"
    },
    "language_info": {
      "codemirror_mode": {
        "name": "ipython",
        "version": 3
      },
      "file_extension": ".py",
      "mimetype": "text/x-python",
      "name": "python",
      "nbconvert_exporter": "python",
      "pygments_lexer": "ipython3",
      "version": "3.12.4"
    },
    "colab": {
      "provenance": []
    }
  },
  "nbformat_minor": 5,
  "nbformat": 4,
  "cells": [
    {
      "id": "96933f7a-1038-4618-98e1-db764e11f072",
      "cell_type": "code",
      "source": [
        "import numpy as np\n",
        "lst = [1,2,3,4,5]\n",
        "my_array = np.array(lst)\n",
        "print(my_array)"
      ],
      "metadata": {
        "trusted": true,
        "colab": {
          "base_uri": "https://localhost:8080/"
        },
        "id": "96933f7a-1038-4618-98e1-db764e11f072",
        "outputId": "bc697cb8-4aab-49c1-cf0a-89660a858e0a"
      },
      "outputs": [
        {
          "output_type": "stream",
          "name": "stdout",
          "text": [
            "[1 2 3 4 5]\n"
          ]
        }
      ],
      "execution_count": 1
    },
    {
      "id": "d0885e63-e478-4fa5-b5ec-658a7371b789",
      "cell_type": "code",
      "source": [
        "import numpy as np\n",
        "lst = [1,2,3,4,5]\n",
        "my_array = np.array(lst)\n",
        "print(my_array)\n",
        "print(my_array.shape)\n"
      ],
      "metadata": {
        "trusted": true,
        "colab": {
          "base_uri": "https://localhost:8080/"
        },
        "id": "d0885e63-e478-4fa5-b5ec-658a7371b789",
        "outputId": "11bb5a3d-8e9f-4873-8a51-c468fd1f3b02"
      },
      "outputs": [
        {
          "output_type": "stream",
          "name": "stdout",
          "text": [
            "[1 2 3 4 5]\n",
            "(5,)\n"
          ]
        }
      ],
      "execution_count": 2
    },
    {
      "id": "c3883cbe-e3dc-4710-af5b-5ee9b584bd1e",
      "cell_type": "code",
      "source": [
        "import numpy as np\n",
        "lst = [1,2,3,4,5]\n",
        "my_array = np.array(lst)\n",
        "print(my_array)\n",
        "print(my_array.shape)\n",
        "reshaped_array=my_array.reshape((5,1))\n",
        "print(reshaped_array)"
      ],
      "metadata": {
        "trusted": true,
        "colab": {
          "base_uri": "https://localhost:8080/"
        },
        "id": "c3883cbe-e3dc-4710-af5b-5ee9b584bd1e",
        "outputId": "bd2e99ce-795d-45ed-ac34-ed7507d33a38"
      },
      "outputs": [
        {
          "output_type": "stream",
          "name": "stdout",
          "text": [
            "[1 2 3 4 5]\n",
            "(5,)\n",
            "[[1]\n",
            " [2]\n",
            " [3]\n",
            " [4]\n",
            " [5]]\n"
          ]
        }
      ],
      "execution_count": 3
    },
    {
      "id": "402c4a33-2ed7-4184-9c68-57a591b7faa7",
      "cell_type": "code",
      "source": [
        "result_array=my_array+10\n",
        "print(result_array)"
      ],
      "metadata": {
        "trusted": true,
        "colab": {
          "base_uri": "https://localhost:8080/"
        },
        "id": "402c4a33-2ed7-4184-9c68-57a591b7faa7",
        "outputId": "4b43e535-b9c6-40b2-b61c-75cf9840a537"
      },
      "outputs": [
        {
          "output_type": "stream",
          "name": "stdout",
          "text": [
            "[11 12 13 14 15]\n"
          ]
        }
      ],
      "execution_count": 4
    },
    {
      "id": "121e4000-73e1-4416-a6e4-e2dc549bfb3b",
      "cell_type": "code",
      "source": [
        "print(my_array[2])\n",
        "sub_array=my_array[1:4]\n",
        "print(sub_array)"
      ],
      "metadata": {
        "trusted": true,
        "colab": {
          "base_uri": "https://localhost:8080/"
        },
        "id": "121e4000-73e1-4416-a6e4-e2dc549bfb3b",
        "outputId": "781831d4-e6c3-4fd5-a886-f797124e027a"
      },
      "outputs": [
        {
          "output_type": "stream",
          "name": "stdout",
          "text": [
            "3\n",
            "[2 3 4]\n"
          ]
        }
      ],
      "execution_count": 5
    },
    {
      "id": "8ae7d6f4-0d2b-4c61-b24b-e2afd3ebeee8",
      "cell_type": "code",
      "source": [
        "total_sum = np.sum(my_array)\n",
        "print(total_sum)"
      ],
      "metadata": {
        "trusted": true,
        "colab": {
          "base_uri": "https://localhost:8080/"
        },
        "id": "8ae7d6f4-0d2b-4c61-b24b-e2afd3ebeee8",
        "outputId": "2dfe45e4-3f17-46e4-d19e-d9dd42dd4c44"
      },
      "outputs": [
        {
          "output_type": "stream",
          "name": "stdout",
          "text": [
            "15\n"
          ]
        }
      ],
      "execution_count": 6
    },
    {
      "id": "527ce6c3-600b-4760-b829-e216c57008e3",
      "cell_type": "code",
      "source": [
        "mean_value=np.mean(my_array)\n",
        "print(mean_value)"
      ],
      "metadata": {
        "trusted": true,
        "colab": {
          "base_uri": "https://localhost:8080/"
        },
        "id": "527ce6c3-600b-4760-b829-e216c57008e3",
        "outputId": "8439ca6c-97e4-4902-9dcc-da26afe98a3a"
      },
      "outputs": [
        {
          "output_type": "stream",
          "name": "stdout",
          "text": [
            "3.0\n"
          ]
        }
      ],
      "execution_count": 7
    },
    {
      "id": "1baa73aa-dda3-43f1-817f-09b9733f2b36",
      "cell_type": "code",
      "source": [
        "import pandas as pd\n",
        "my_list=[10,20,30,40,50]\n",
        "my_series=pd.Series(my_list)\n",
        "print(my_series)"
      ],
      "metadata": {
        "trusted": true,
        "colab": {
          "base_uri": "https://localhost:8080/"
        },
        "id": "1baa73aa-dda3-43f1-817f-09b9733f2b36",
        "outputId": "a00268d9-55f1-4425-de5e-d364fe6e9ab9"
      },
      "outputs": [
        {
          "output_type": "stream",
          "name": "stdout",
          "text": [
            "0    10\n",
            "1    20\n",
            "2    30\n",
            "3    40\n",
            "4    50\n",
            "dtype: int64\n"
          ]
        }
      ],
      "execution_count": 8
    },
    {
      "id": "45e99c73-8ee0-4bcb-8544-0ef24d36a688",
      "cell_type": "code",
      "source": [
        "student={'Name':['Sahil','Anshuman','Rohan','Manish','Subhrakant','Subhranshu','Debjeet','Rohit','Jessica','Alina'],\n",
        "         'Roll_no':[1,2,3,4,5,6,7,8,9,10],\n",
        "         'Age':[19,19,18,19,19,19,20,19,19,19],\n",
        "         'M1':[88,96,85,73,64,39,54,63,45,99],\n",
        "         'M2':[98,96,85,73,74,39,64,63,45,99],\n",
        "         'M3':[88,96,85,73,64,39,54,63,45,99],\n",
        "         'M4':[88,96,85,73,64,39,54,63,45,99]}\n",
        "my_dataframe=pd.DataFrame(student)\n",
        "print(my_dataframe)\n"
      ],
      "metadata": {
        "trusted": true,
        "colab": {
          "base_uri": "https://localhost:8080/"
        },
        "id": "45e99c73-8ee0-4bcb-8544-0ef24d36a688",
        "outputId": "78627747-9dc3-4b25-a624-aa91d5c94a6d"
      },
      "outputs": [
        {
          "output_type": "stream",
          "name": "stdout",
          "text": [
            "         Name  Roll_no  Age  M1  M2  M3  M4\n",
            "0       Sahil        1   19  88  98  88  88\n",
            "1    Anshuman        2   19  96  96  96  96\n",
            "2       Rohan        3   18  85  85  85  85\n",
            "3      Manish        4   19  73  73  73  73\n",
            "4  Subhrakant        5   19  64  74  64  64\n",
            "5  Subhranshu        6   19  39  39  39  39\n",
            "6     Debjeet        7   20  54  64  54  54\n",
            "7       Rohit        8   19  63  63  63  63\n",
            "8     Jessica        9   19  45  45  45  45\n",
            "9       Alina       10   19  99  99  99  99\n"
          ]
        }
      ],
      "execution_count": 15
    },
    {
      "id": "d9dd5786-6fe7-4371-809c-9177bd3892f9",
      "cell_type": "code",
      "source": [
        "age=my_dataframe['Age']\n",
        "print(age)\n",
        "person_data=my_dataframe.loc[1]\n",
        "print(person_data)"
      ],
      "metadata": {
        "trusted": true,
        "colab": {
          "base_uri": "https://localhost:8080/"
        },
        "id": "d9dd5786-6fe7-4371-809c-9177bd3892f9",
        "outputId": "c0eea6c8-53f1-407b-aa7f-365cff51f613"
      },
      "outputs": [
        {
          "output_type": "stream",
          "name": "stdout",
          "text": [
            "0    19\n",
            "1    19\n",
            "2    18\n",
            "3    19\n",
            "4    19\n",
            "5    19\n",
            "6    20\n",
            "7    19\n",
            "8    19\n",
            "9    19\n",
            "Name: Age, dtype: int64\n",
            "Name       Ananya\n",
            "Roll_no         2\n",
            "Age            19\n",
            "M1             96\n",
            "M2             96\n",
            "M3             96\n",
            "M4             96\n",
            "Name: 1, dtype: object\n"
          ]
        }
      ],
      "execution_count": 10
    },
    {
      "id": "84a4976a-a0d9-4de0-aa08-b87e883fe9c7",
      "cell_type": "code",
      "source": [
        "my_dataframe['Avg_marks']=my_dataframe[['M1','M2','M3','M4']].mean(axis=1)\n",
        "print(my_dataframe)\n"
      ],
      "metadata": {
        "trusted": true,
        "colab": {
          "base_uri": "https://localhost:8080/"
        },
        "id": "84a4976a-a0d9-4de0-aa08-b87e883fe9c7",
        "outputId": "e9a33de1-78c1-4f4c-9003-6360f25ec193"
      },
      "outputs": [
        {
          "output_type": "stream",
          "name": "stdout",
          "text": [
            "        Name  Roll_no  Age  M1  M2  M3  M4  Avg_marks\n",
            "0     Ankita        1   19  88  98  88  88       90.5\n",
            "1     Ananya        2   19  96  96  96  96       96.0\n",
            "2    Nashima        3   18  85  85  85  85       85.0\n",
            "3   Suvrajit        4   19  73  73  73  73       73.0\n",
            "4    Solomon        5   19  64  74  64  64       66.5\n",
            "5     Khushi        6   19  39  39  39  39       39.0\n",
            "6      Shaan        7   20  54  64  54  54       56.5\n",
            "7     Ishika        8   19  63  63  63  63       63.0\n",
            "8      Disha        9   19  45  45  45  45       45.0\n",
            "9  Vaishnavi       10   19  99  99  99  99       99.0\n"
          ]
        }
      ],
      "execution_count": 11
    },
    {
      "id": "9246e436-c0c8-45f2-a8fd-c3edeef07803",
      "cell_type": "code",
      "source": [
        "import pandas as pd\n",
        "student={'Name':['Sahil','Anshuman','Rohan','Manish','Subhrakant','Subhranshu','Debjeet','Rohit','Jessica','Alina'],\n",
        "         'Roll_no':[1,2,3,4,5,6,7,8,9,10],\n",
        "         'Age':[19,19,18,19,19,19,20,19,19,19],\n",
        "         'M1':[88,96,85,73,64,39,54,63,45,99],\n",
        "         'M2':[98,96,85,73,74,39,64,63,45,99],\n",
        "         'M3':[88,96,85,73,64,39,54,63,45,99],\n",
        "         'M4':[88,96,85,73,64,39,54,63,45,99],\n",
        "        'Hs/Ds':['Hs','Hs','Ds','Ds','Ds','Ds','Ds','Hs','Hs','Hs']}\n",
        "my_dataframe=pd.DataFrame(student)\n",
        "print(my_dataframe)\n"
      ],
      "metadata": {
        "trusted": true,
        "colab": {
          "base_uri": "https://localhost:8080/"
        },
        "id": "9246e436-c0c8-45f2-a8fd-c3edeef07803",
        "outputId": "2ed4eb22-b302-4065-f668-9677e16e83d3"
      },
      "outputs": [
        {
          "output_type": "stream",
          "name": "stdout",
          "text": [
            "         Name  Roll_no  Age  M1  M2  M3  M4 Hs/Ds\n",
            "0       Sahil        1   19  88  98  88  88    Hs\n",
            "1    Anshuman        2   19  96  96  96  96    Hs\n",
            "2       Rohan        3   18  85  85  85  85    Ds\n",
            "3      Manish        4   19  73  73  73  73    Ds\n",
            "4  Subhrakant        5   19  64  74  64  64    Ds\n",
            "5  Subhranshu        6   19  39  39  39  39    Ds\n",
            "6     Debjeet        7   20  54  64  54  54    Ds\n",
            "7       Rohit        8   19  63  63  63  63    Hs\n",
            "8     Jessica        9   19  45  45  45  45    Hs\n",
            "9       Alina       10   19  99  99  99  99    Hs\n"
          ]
        }
      ],
      "execution_count": 16
    },
    {
      "id": "467994c5-9d22-4962-9bf8-b29e2d38a0a6",
      "cell_type": "code",
      "source": [
        "my_dataframe['Avg_marks']=my_dataframe[['M1','M2','M3','M4']].mean(axis=1)\n",
        "print(my_dataframe)\n"
      ],
      "metadata": {
        "trusted": true,
        "colab": {
          "base_uri": "https://localhost:8080/"
        },
        "id": "467994c5-9d22-4962-9bf8-b29e2d38a0a6",
        "outputId": "32a3ad01-5d91-4483-83d5-2ccbd87b8961"
      },
      "outputs": [
        {
          "output_type": "stream",
          "name": "stdout",
          "text": [
            "         Name  Roll_no  Age  M1  M2  M3  M4 Hs/Ds  Avg_marks\n",
            "0       Sahil        1   19  88  98  88  88    Hs       90.5\n",
            "1    Anshuman        2   19  96  96  96  96    Hs       96.0\n",
            "2       Rohan        3   18  85  85  85  85    Ds       85.0\n",
            "3      Manish        4   19  73  73  73  73    Ds       73.0\n",
            "4  Subhrakant        5   19  64  74  64  64    Ds       66.5\n",
            "5  Subhranshu        6   19  39  39  39  39    Ds       39.0\n",
            "6     Debjeet        7   20  54  64  54  54    Ds       56.5\n",
            "7       Rohit        8   19  63  63  63  63    Hs       63.0\n",
            "8     Jessica        9   19  45  45  45  45    Hs       45.0\n",
            "9       Alina       10   19  99  99  99  99    Hs       99.0\n"
          ]
        }
      ],
      "execution_count": 17
    },
    {
      "id": "f079a57a-7878-4020-9557-4c17f242b428",
      "cell_type": "code",
      "source": [
        "my_dataframe.groupby('Hs/Ds',as_index=False).Age.mean()"
      ],
      "metadata": {
        "trusted": true,
        "colab": {
          "base_uri": "https://localhost:8080/",
          "height": 112
        },
        "id": "f079a57a-7878-4020-9557-4c17f242b428",
        "outputId": "21d2dc4f-7832-4f87-a307-8433322aa7db"
      },
      "outputs": [
        {
          "output_type": "execute_result",
          "data": {
            "text/plain": [
              "  Hs/Ds   Age\n",
              "0    Ds  19.0\n",
              "1    Hs  19.0"
            ],
            "text/html": [
              "\n",
              "  <div id=\"df-a83e9dbe-815a-4b4e-b163-49a746cbe5ca\" class=\"colab-df-container\">\n",
              "    <div>\n",
              "<style scoped>\n",
              "    .dataframe tbody tr th:only-of-type {\n",
              "        vertical-align: middle;\n",
              "    }\n",
              "\n",
              "    .dataframe tbody tr th {\n",
              "        vertical-align: top;\n",
              "    }\n",
              "\n",
              "    .dataframe thead th {\n",
              "        text-align: right;\n",
              "    }\n",
              "</style>\n",
              "<table border=\"1\" class=\"dataframe\">\n",
              "  <thead>\n",
              "    <tr style=\"text-align: right;\">\n",
              "      <th></th>\n",
              "      <th>Hs/Ds</th>\n",
              "      <th>Age</th>\n",
              "    </tr>\n",
              "  </thead>\n",
              "  <tbody>\n",
              "    <tr>\n",
              "      <th>0</th>\n",
              "      <td>Ds</td>\n",
              "      <td>19.0</td>\n",
              "    </tr>\n",
              "    <tr>\n",
              "      <th>1</th>\n",
              "      <td>Hs</td>\n",
              "      <td>19.0</td>\n",
              "    </tr>\n",
              "  </tbody>\n",
              "</table>\n",
              "</div>\n",
              "    <div class=\"colab-df-buttons\">\n",
              "\n",
              "  <div class=\"colab-df-container\">\n",
              "    <button class=\"colab-df-convert\" onclick=\"convertToInteractive('df-a83e9dbe-815a-4b4e-b163-49a746cbe5ca')\"\n",
              "            title=\"Convert this dataframe to an interactive table.\"\n",
              "            style=\"display:none;\">\n",
              "\n",
              "  <svg xmlns=\"http://www.w3.org/2000/svg\" height=\"24px\" viewBox=\"0 -960 960 960\">\n",
              "    <path d=\"M120-120v-720h720v720H120Zm60-500h600v-160H180v160Zm220 220h160v-160H400v160Zm0 220h160v-160H400v160ZM180-400h160v-160H180v160Zm440 0h160v-160H620v160ZM180-180h160v-160H180v160Zm440 0h160v-160H620v160Z\"/>\n",
              "  </svg>\n",
              "    </button>\n",
              "\n",
              "  <style>\n",
              "    .colab-df-container {\n",
              "      display:flex;\n",
              "      gap: 12px;\n",
              "    }\n",
              "\n",
              "    .colab-df-convert {\n",
              "      background-color: #E8F0FE;\n",
              "      border: none;\n",
              "      border-radius: 50%;\n",
              "      cursor: pointer;\n",
              "      display: none;\n",
              "      fill: #1967D2;\n",
              "      height: 32px;\n",
              "      padding: 0 0 0 0;\n",
              "      width: 32px;\n",
              "    }\n",
              "\n",
              "    .colab-df-convert:hover {\n",
              "      background-color: #E2EBFA;\n",
              "      box-shadow: 0px 1px 2px rgba(60, 64, 67, 0.3), 0px 1px 3px 1px rgba(60, 64, 67, 0.15);\n",
              "      fill: #174EA6;\n",
              "    }\n",
              "\n",
              "    .colab-df-buttons div {\n",
              "      margin-bottom: 4px;\n",
              "    }\n",
              "\n",
              "    [theme=dark] .colab-df-convert {\n",
              "      background-color: #3B4455;\n",
              "      fill: #D2E3FC;\n",
              "    }\n",
              "\n",
              "    [theme=dark] .colab-df-convert:hover {\n",
              "      background-color: #434B5C;\n",
              "      box-shadow: 0px 1px 3px 1px rgba(0, 0, 0, 0.15);\n",
              "      filter: drop-shadow(0px 1px 2px rgba(0, 0, 0, 0.3));\n",
              "      fill: #FFFFFF;\n",
              "    }\n",
              "  </style>\n",
              "\n",
              "    <script>\n",
              "      const buttonEl =\n",
              "        document.querySelector('#df-a83e9dbe-815a-4b4e-b163-49a746cbe5ca button.colab-df-convert');\n",
              "      buttonEl.style.display =\n",
              "        google.colab.kernel.accessAllowed ? 'block' : 'none';\n",
              "\n",
              "      async function convertToInteractive(key) {\n",
              "        const element = document.querySelector('#df-a83e9dbe-815a-4b4e-b163-49a746cbe5ca');\n",
              "        const dataTable =\n",
              "          await google.colab.kernel.invokeFunction('convertToInteractive',\n",
              "                                                    [key], {});\n",
              "        if (!dataTable) return;\n",
              "\n",
              "        const docLinkHtml = 'Like what you see? Visit the ' +\n",
              "          '<a target=\"_blank\" href=https://colab.research.google.com/notebooks/data_table.ipynb>data table notebook</a>'\n",
              "          + ' to learn more about interactive tables.';\n",
              "        element.innerHTML = '';\n",
              "        dataTable['output_type'] = 'display_data';\n",
              "        await google.colab.output.renderOutput(dataTable, element);\n",
              "        const docLink = document.createElement('div');\n",
              "        docLink.innerHTML = docLinkHtml;\n",
              "        element.appendChild(docLink);\n",
              "      }\n",
              "    </script>\n",
              "  </div>\n",
              "\n",
              "\n",
              "<div id=\"df-1b836150-ef6e-441c-8b84-89f01d88a4a3\">\n",
              "  <button class=\"colab-df-quickchart\" onclick=\"quickchart('df-1b836150-ef6e-441c-8b84-89f01d88a4a3')\"\n",
              "            title=\"Suggest charts\"\n",
              "            style=\"display:none;\">\n",
              "\n",
              "<svg xmlns=\"http://www.w3.org/2000/svg\" height=\"24px\"viewBox=\"0 0 24 24\"\n",
              "     width=\"24px\">\n",
              "    <g>\n",
              "        <path d=\"M19 3H5c-1.1 0-2 .9-2 2v14c0 1.1.9 2 2 2h14c1.1 0 2-.9 2-2V5c0-1.1-.9-2-2-2zM9 17H7v-7h2v7zm4 0h-2V7h2v10zm4 0h-2v-4h2v4z\"/>\n",
              "    </g>\n",
              "</svg>\n",
              "  </button>\n",
              "\n",
              "<style>\n",
              "  .colab-df-quickchart {\n",
              "      --bg-color: #E8F0FE;\n",
              "      --fill-color: #1967D2;\n",
              "      --hover-bg-color: #E2EBFA;\n",
              "      --hover-fill-color: #174EA6;\n",
              "      --disabled-fill-color: #AAA;\n",
              "      --disabled-bg-color: #DDD;\n",
              "  }\n",
              "\n",
              "  [theme=dark] .colab-df-quickchart {\n",
              "      --bg-color: #3B4455;\n",
              "      --fill-color: #D2E3FC;\n",
              "      --hover-bg-color: #434B5C;\n",
              "      --hover-fill-color: #FFFFFF;\n",
              "      --disabled-bg-color: #3B4455;\n",
              "      --disabled-fill-color: #666;\n",
              "  }\n",
              "\n",
              "  .colab-df-quickchart {\n",
              "    background-color: var(--bg-color);\n",
              "    border: none;\n",
              "    border-radius: 50%;\n",
              "    cursor: pointer;\n",
              "    display: none;\n",
              "    fill: var(--fill-color);\n",
              "    height: 32px;\n",
              "    padding: 0;\n",
              "    width: 32px;\n",
              "  }\n",
              "\n",
              "  .colab-df-quickchart:hover {\n",
              "    background-color: var(--hover-bg-color);\n",
              "    box-shadow: 0 1px 2px rgba(60, 64, 67, 0.3), 0 1px 3px 1px rgba(60, 64, 67, 0.15);\n",
              "    fill: var(--button-hover-fill-color);\n",
              "  }\n",
              "\n",
              "  .colab-df-quickchart-complete:disabled,\n",
              "  .colab-df-quickchart-complete:disabled:hover {\n",
              "    background-color: var(--disabled-bg-color);\n",
              "    fill: var(--disabled-fill-color);\n",
              "    box-shadow: none;\n",
              "  }\n",
              "\n",
              "  .colab-df-spinner {\n",
              "    border: 2px solid var(--fill-color);\n",
              "    border-color: transparent;\n",
              "    border-bottom-color: var(--fill-color);\n",
              "    animation:\n",
              "      spin 1s steps(1) infinite;\n",
              "  }\n",
              "\n",
              "  @keyframes spin {\n",
              "    0% {\n",
              "      border-color: transparent;\n",
              "      border-bottom-color: var(--fill-color);\n",
              "      border-left-color: var(--fill-color);\n",
              "    }\n",
              "    20% {\n",
              "      border-color: transparent;\n",
              "      border-left-color: var(--fill-color);\n",
              "      border-top-color: var(--fill-color);\n",
              "    }\n",
              "    30% {\n",
              "      border-color: transparent;\n",
              "      border-left-color: var(--fill-color);\n",
              "      border-top-color: var(--fill-color);\n",
              "      border-right-color: var(--fill-color);\n",
              "    }\n",
              "    40% {\n",
              "      border-color: transparent;\n",
              "      border-right-color: var(--fill-color);\n",
              "      border-top-color: var(--fill-color);\n",
              "    }\n",
              "    60% {\n",
              "      border-color: transparent;\n",
              "      border-right-color: var(--fill-color);\n",
              "    }\n",
              "    80% {\n",
              "      border-color: transparent;\n",
              "      border-right-color: var(--fill-color);\n",
              "      border-bottom-color: var(--fill-color);\n",
              "    }\n",
              "    90% {\n",
              "      border-color: transparent;\n",
              "      border-bottom-color: var(--fill-color);\n",
              "    }\n",
              "  }\n",
              "</style>\n",
              "\n",
              "  <script>\n",
              "    async function quickchart(key) {\n",
              "      const quickchartButtonEl =\n",
              "        document.querySelector('#' + key + ' button');\n",
              "      quickchartButtonEl.disabled = true;  // To prevent multiple clicks.\n",
              "      quickchartButtonEl.classList.add('colab-df-spinner');\n",
              "      try {\n",
              "        const charts = await google.colab.kernel.invokeFunction(\n",
              "            'suggestCharts', [key], {});\n",
              "      } catch (error) {\n",
              "        console.error('Error during call to suggestCharts:', error);\n",
              "      }\n",
              "      quickchartButtonEl.classList.remove('colab-df-spinner');\n",
              "      quickchartButtonEl.classList.add('colab-df-quickchart-complete');\n",
              "    }\n",
              "    (() => {\n",
              "      let quickchartButtonEl =\n",
              "        document.querySelector('#df-1b836150-ef6e-441c-8b84-89f01d88a4a3 button');\n",
              "      quickchartButtonEl.style.display =\n",
              "        google.colab.kernel.accessAllowed ? 'block' : 'none';\n",
              "    })();\n",
              "  </script>\n",
              "</div>\n",
              "\n",
              "    </div>\n",
              "  </div>\n"
            ],
            "application/vnd.google.colaboratory.intrinsic+json": {
              "type": "dataframe",
              "summary": "{\n  \"name\": \"my_dataframe\",\n  \"rows\": 2,\n  \"fields\": [\n    {\n      \"column\": \"Hs/Ds\",\n      \"properties\": {\n        \"dtype\": \"string\",\n        \"num_unique_values\": 2,\n        \"samples\": [\n          \"Hs\",\n          \"Ds\"\n        ],\n        \"semantic_type\": \"\",\n        \"description\": \"\"\n      }\n    },\n    {\n      \"column\": \"Age\",\n      \"properties\": {\n        \"dtype\": \"number\",\n        \"std\": 0.0,\n        \"min\": 19.0,\n        \"max\": 19.0,\n        \"num_unique_values\": 1,\n        \"samples\": [\n          19.0\n        ],\n        \"semantic_type\": \"\",\n        \"description\": \"\"\n      }\n    }\n  ]\n}"
            }
          },
          "metadata": {},
          "execution_count": 18
        }
      ],
      "execution_count": 18
    }
  ]
}